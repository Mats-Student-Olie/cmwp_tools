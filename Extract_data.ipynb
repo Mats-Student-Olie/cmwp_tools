{
 "cells": [
  {
   "cell_type": "markdown",
   "metadata": {},
   "source": [
    "# Extract data from .sol files"
   ]
  },
  {
   "cell_type": "markdown",
   "metadata": {},
   "source": [
    "This workbook can be used to extract physical paramaters from a folder a .sol files"
   ]
  },
  {
   "cell_type": "markdown",
   "metadata": {},
   "source": [
    "## Import stuff"
   ]
  },
  {
   "cell_type": "code",
   "execution_count": 3,
   "metadata": {},
   "outputs": [],
   "source": [
    "import pandas as pd\n",
    "from src.cmwp_tools import extractDataDir\n",
    "import matplotlib.pyplot as plt"
   ]
  },
  {
   "cell_type": "markdown",
   "metadata": {},
   "source": [
    "## Extract data from solution files"
   ]
  },
  {
   "cell_type": "markdown",
   "metadata": {},
   "source": [
    "This code extracts data from CMWP .sol files"
   ]
  },
  {
   "cell_type": "code",
   "execution_count": null,
   "metadata": {},
   "outputs": [],
   "source": [
    "data_df = extractDataDir('/home/rhys/Documents/CMWP-210315/DESY_202107/sam1a/*.sol', ellipticity=1)"
   ]
  },
  {
   "cell_type": "code",
   "execution_count": null,
   "metadata": {
    "scrolled": true
   },
   "outputs": [],
   "source": [
    "# Print dataframe\n",
    "data_df\n",
    "#data_df.style.set_sticky(axis=\"filename\") #need pandas 1.3.0"
   ]
  },
  {
   "cell_type": "markdown",
   "metadata": {},
   "source": [
    "## Pull out z and y values from filename"
   ]
  },
  {
   "cell_type": "code",
   "execution_count": null,
   "metadata": {},
   "outputs": [],
   "source": [
    "data_df[['f2', 'y', 'f4', 'zs']] = data_df['filename'].str.split('_',expand=True)               # Split by '_'\n",
    "data_df[['z', 'no']] = data_df['zs'].str.split('.s',expand=True)                                # Split by '.s'\n",
    "data_df.drop(['f2', 'filename', 'f4', 'zs', 'no'], axis=1, inplace=True)                        # Clear un-needed columns\n",
    "\n",
    "# Rearrange to put y and z first\n",
    "cols = data_df.columns.tolist()\n",
    "data_df=data_df[cols[-2:] + cols[:-2]]"
   ]
  },
  {
   "cell_type": "code",
   "execution_count": null,
   "metadata": {
    "scrolled": true
   },
   "outputs": [],
   "source": [
    "# Print dataframe\n",
    "data_df"
   ]
  },
  {
   "cell_type": "markdown",
   "metadata": {},
   "source": [
    "## Calculate depth from edge"
   ]
  },
  {
   "cell_type": "markdown",
   "metadata": {},
   "source": [
    "This takes a list of all y positions (calculated from the data list above) \n",
    "and a list of the corresponsing z positions at the edge of the sample, \n",
    "to make a new column called 'depth', which is the distance of the pattern away from the sample edge in microns"
   ]
  },
  {
   "cell_type": "code",
   "execution_count": null,
   "metadata": {},
   "outputs": [],
   "source": [
    "# These are the unique y positions\n",
    "data_df['y'] = pd.to_numeric(data_df['y'], downcast=\"float\")\n",
    "unique = data_df['y'].unique()\n",
    "print(unique)"
   ]
  },
  {
   "cell_type": "code",
   "execution_count": null,
   "metadata": {},
   "outputs": [],
   "source": [
    "##########################################\n",
    "# Here, define the edge (z value) for each y\n",
    "##########################################\n",
    "\n",
    "edges = [12.623, 12.623, 12.623, 12.621]\n",
    "print(edges)"
   ]
  },
  {
   "cell_type": "code",
   "execution_count": null,
   "metadata": {},
   "outputs": [],
   "source": [
    "if len(unique) != len(edges):\n",
    "    raise Exception('Unique and edges should be the same length')\n",
    "    \n",
    "# Make a new column 'depth'\n",
    "data_df['depth'] = data_df['y'].copy()\n",
    "\n",
    "cols = data_df.columns.tolist()\n",
    "data_df=data_df[cols[-1:] + cols[:-1]]\n",
    "\n",
    "for col in data_df.columns:\n",
    "    data_df[col] = pd.to_numeric(data_df[col], downcast=\"float\")\n",
    "\n",
    "cols = data_df.columns.tolist()\n",
    "\n",
    "df2 = pd.DataFrame({'unique':unique, 'edges':edges})\n",
    "\n",
    "rename_dict = df2.set_index('unique').to_dict()['edges']\n"
   ]
  },
  {
   "cell_type": "code",
   "execution_count": null,
   "metadata": {},
   "outputs": [],
   "source": [
    "data_df['depth'].replace(rename_dict, inplace=True)\n",
    "data_df['depth'] = data_df['z'] - data_df['depth']\n",
    "data_df['depth'] = data_df['depth'] * 1000"
   ]
  },
  {
   "cell_type": "code",
   "execution_count": null,
   "metadata": {
    "scrolled": true
   },
   "outputs": [],
   "source": [
    "data_df"
   ]
  },
  {
   "cell_type": "markdown",
   "metadata": {},
   "source": [
    "## Plot"
   ]
  },
  {
   "cell_type": "markdown",
   "metadata": {},
   "source": [
    "This plots dislocation density, <a> loop fraction, M paramater and lattice paramaters as a function of depth from sample edge"
   ]
  },
  {
   "cell_type": "code",
   "execution_count": null,
   "metadata": {},
   "outputs": [],
   "source": [
    "depth, dpa = np.loadtxt('data/srim.txt')\n",
    "\n",
    "fig, ((ax, ax2, ax3), (ax4, ax5, ax6)) = plt.subplots(2, 3, figsize=(20,9), sharex=True)\n",
    "fig.subplots_adjust(left=0.06, right=0.96, top=0.98, bottom=0.1, hspace=0.3, wspace = 0.35)\n",
    "axes = [ax, ax2, ax3, ax4, ax5, ax6]\n",
    "\n",
    "max_x = np.max(data_df['depth'])\n",
    "x=data_df['depth']; a=data_df['a_lat']; c=data_df['c_lat']; a_err=data_df['a_err']; c_err=data_df['c_err'];\n",
    "\n",
    "# Common settings for all axes\n",
    "for sax in axes:\n",
    "    sax.set_xlabel('Depth [${\\mu}m$]', fontsize=14)\n",
    "    sax.tick_params(axis='both', which='major', labelsize=12)\n",
    "    sax.set_xlim(0, max_x)\n",
    "    #sax.vlines(line_x, ymin=0, ymax=300, linestyles='dashed', alpha=0.3)\n",
    "    sax.xaxis.set_ticks_position('both')\n",
    "    \n",
    "    sec = sax.twinx()\n",
    "    sec.fill(depth, np.array(dpa), alpha=0.2)\n",
    "    sec.set_xlim(0, max_x)\n",
    "    sec.set_ylim(0)\n",
    "    sec.set_ylabel('Dose [dpa]', fontsize=14)\n",
    "    \n",
    "    sec.tick_params(axis='both', which='major', labelsize=12)\n",
    "\n",
    "#### dislocation density\n",
    "    \n",
    "ax.errorbar(x=x, y=data_df['rho'], yerr = [data_df['rho_neg'],data_df['rho_pos']],  marker='o',c='k',  ms=3, lw=0, elinewidth=1, capsize=5)\n",
    "ax.set_ylabel('Dislocation density [$10^{14} m^{-2}$]', fontsize=14)\n",
    "ax.set_zorder(sec.get_zorder()+1); ax.patch.set_visible(False);\n",
    "ax.set_ylim(0)\n",
    "\n",
    "#### m\n",
    "\n",
    "ax2.errorbar(x=x, y=data_df['m'], yerr = [data_df['m_neg'],data_df['m_pos']], marker='o',c='k',  ms=3, lw=0, elinewidth=1, capsize=5)\n",
    "ax2.set_ylabel('M', fontsize=14)\n",
    "ax2.set_ylim(0, 10)\n",
    "ax2.set_zorder(sec.get_zorder()+1); ax2.patch.set_visible(False);\n",
    "\n",
    "#### a loop fraction\n",
    "\n",
    "ax3.errorbar(x=x, y=data_df['a_loop'], yerr = [data_df['a_loop_neg'],data_df['a_loop_pos']],  marker='o',c='k',  ms=3, lw=0, elinewidth=1, capsize=5)\n",
    "ax3.set_ylabel('$f_{<a>}$', fontsize=14)\n",
    "ax3.set_ylim(0, 1)\n",
    "ax3.set_zorder(sec.get_zorder()+1); ax3.patch.set_visible(False);\n",
    "\n",
    "lim_defs=[np.round(np.min(a)-0.001,3), np.round(np.max(a)+0.001,3), np.round(np.min(c)-0.001,3), np.round(np.max(c)+0.001,3)]\n",
    "ratio_a_to_c = (np.max(a)-np.min(a)+0.002)/((np.max(a)-np.min(a)+0.002)+(np.max(c)-np.min(c))+0.002)\n",
    "\n",
    "#### c paramater\n",
    "\n",
    "ax4.errorbar(x=x, y=c, yerr=c_err, marker='o', c='k', ms=3, lw=0, elinewidth=1, capsize=5)\n",
    "ax4.set_ylabel('c [Å]', fontsize=14)\n",
    "ax4.set_ylim(lim_defs[2], lim_defs[3])\n",
    "ax4.set_zorder(sec.get_zorder()+1); ax4.patch.set_visible(False);\n",
    "\n",
    "pos1 = ax4.get_position() # get the original position \n",
    "\n",
    "pos2 = [pos1.x0, pos1.y0,  pos1.width, pos1.height*0.5] \n",
    "ax4.set_position(pos2)\n",
    "ax4.xaxis.set_ticks_position('bottom')\n",
    "ax4.set_yticks(np.arange(lim_defs[2], lim_defs[3]-0.001, 0.001))\n",
    "\n",
    "#### a paramater\n",
    "\n",
    "pos2 = [pos1.x0, pos1.y0 + pos1.height *0.5,  pos1.width, pos1.height*0.5] \n",
    "ax4b = plt.axes(position=pos2)\n",
    "ax4b.errorbar(x=x, y=a, yerr=a_err, marker='o',c='k',  ms=3, lw=0, elinewidth=1, capsize=5)\n",
    "ax4b.set_ylabel('a [Å]', fontsize=14)\n",
    "ax4b.tick_params(axis='both', which='major', labelsize=12)\n",
    "ax4b.xaxis.set_ticks_position('top')\n",
    "ax4b.xaxis.set_ticklabels([])\n",
    "ax4b.set_xlim(0, max_x)\n",
    "ax4b.set_ylim(lim_defs[0], lim_defs[1])\n",
    "ax4b.set_yticks(np.arange(lim_defs[0], lim_defs[1]+0.001, 0.001))\n",
    "ax4b.set_zorder(sec.get_zorder()+1); ax.patch.set_visible(False);\n",
    "\n",
    "#### c/a\n",
    "\n",
    "covera = np.array(c)/np.array(a)\n",
    "ax5.errorbar(x=x, y=covera, yerr=covera*np.sqrt((np.array(c_err)/np.array(c))**2+(np.array(a_err)/np.array(a))**2), marker='o',c='k',  ms=3, lw=0, elinewidth=1, capsize=5)\n",
    "ax5.set_ylabel('c/a', fontsize=14)\n",
    "ax5.set_ylim(np.min(np.array(c)/np.array(a))-0.0003, np.max(np.array(c)/np.array(a))+0.0003)\n",
    "ax5.set_zorder(sec.get_zorder()+1); ax5.patch.set_visible(False);\n",
    "\n",
    "#### cell volume\n",
    "vol = np.array(a)**2*np.sin(np.deg2rad(60))*np.array(c)\n",
    "\n",
    "err_vol = vol * np.sqrt((np.array(c_err)/np.array(c))**2+2*(np.array(a_err)/np.array(a))**2)\n",
    "\n",
    "ax6.errorbar(x=x, y=vol, yerr=err_vol, c='k', marker='o', ms=3, lw=0, elinewidth=1, capsize=5)\n",
    "ax6.set_ylabel('Cell volume [$Å^3$]', fontsize=14)\n",
    "ax6.set_zorder(sec.get_zorder()+1); ax6.patch.set_visible(False);\n",
    "ax6.set_ylim(np.min(vol)-0.05, np.max(vol)+0.05)\n",
    "\n",
    "#plt.savefig('/home/rhys/Dropbox (Research Group)/Postdoc/DESY/'+name+'_ellip'+str(ellip)+'.pdf', dpi=600)\n",
    "#plt.show()"
   ]
  },
  {
   "cell_type": "code",
   "execution_count": null,
   "metadata": {},
   "outputs": [],
   "source": []
  }
 ],
 "metadata": {
  "kernelspec": {
   "display_name": "Python 3",
   "language": "python",
   "name": "python3"
  },
  "language_info": {
   "codemirror_mode": {
    "name": "ipython",
    "version": 3
   },
   "file_extension": ".py",
   "mimetype": "text/x-python",
   "name": "python",
   "nbconvert_exporter": "python",
   "pygments_lexer": "ipython3",
   "version": "3.7.10"
  },
  "toc-autonumbering": true,
  "toc-showcode": false,
  "toc-showmarkdowntxt": true,
  "toc-showtags": false
 },
 "nbformat": 4,
 "nbformat_minor": 4
}
