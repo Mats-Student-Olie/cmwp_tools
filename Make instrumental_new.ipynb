{
 "cells": [
  {
   "cell_type": "markdown",
   "metadata": {},
   "source": [
    "# Instrumental folder generation for CMWP"
   ]
  },
  {
   "cell_type": "code",
   "execution_count": 1,
   "metadata": {},
   "outputs": [],
   "source": [
    "import numpy as np\n",
    "import matplotlib.pyplot as plt\n",
    "import os\n",
    "from src.xrd_tools import getReflections\n",
    "from lmfit.models import LinearModel,  PseudoVoigtModel, Pearson7Model #, SkewedVoigtModel, SkewedGaussianModel\n",
    "from scipy.interpolate import CubicSpline"
   ]
  },
  {
   "cell_type": "markdown",
   "metadata": {},
   "source": [
    "## Set paramaters"
   ]
  },
  {
   "cell_type": "code",
   "execution_count": null,
   "metadata": {},
   "outputs": [],
   "source": [
    "a = 4.15691                   # a lattice paramater in angstrom             \n",
    "wavelength = 1.540598         # Wavelength in angstrom\n",
    "\n",
    "inputfile = '/home/rhys/Documents/CMWP-201225/BOR60/NI/LaB6.dat'\n",
    "outfolder = '/home/rhys/Desktop/test'"
   ]
  },
  {
   "cell_type": "code",
   "execution_count": null,
   "metadata": {},
   "outputs": [],
   "source": [
    "peak_name, peak_pos = getReflections(crystalType='cubic', outputType='2theta', a=a, wavelength=wavelength, printReflections=True)\n",
    "_, peak_pos_k = getReflections(crystalType='cubic', outputType='k', a=a, wavelength=wavelength, printReflections=False)\n",
    "peak_pos_k_nm = peak_pos_k*10"
   ]
  },
  {
   "cell_type": "code",
   "execution_count": null,
   "metadata": {},
   "outputs": [],
   "source": [
    "if not os.path.exists(outfolder):\n",
    "    os.makedirs(outfolder)\n",
    "\n",
    "x_2theta, y = np.loadtxt(inputfile, unpack=True)\n",
    "\n",
    "x_k_nm = 10 * 2 * np.sin(np.deg2rad(np.array(x_2theta)/2)) / wavelength"
   ]
  },
  {
   "cell_type": "markdown",
   "metadata": {},
   "source": [
    "## Plot data"
   ]
  },
  {
   "cell_type": "code",
   "execution_count": null,
   "metadata": {},
   "outputs": [],
   "source": [
    "fig, (ax2, ax) = plt.subplots(2, 1, figsize=(25,10))\n",
    "ax.vlines(peak_pos_k_nm, ymin=0, ymax=np.max(y), alpha=0.2)\n",
    "ax.plot(x_k_nm, y, '-')\n",
    "ax.set_xlabel('K ($nm^{-1}$)', fontsize=14); ax.set_ylabel('Intensity', fontsize=14);\n",
    "ax.set_xlim(np.min(x_k_nm), np.max(x_k_nm))\n",
    "\n",
    "ax2.vlines(peak_pos, alpha=0.2, ymin=0, ymax=np.max(y))\n",
    "ax2.plot(x_2theta, y, '-')\n",
    "ax2.set_xlabel('2theta ($\\degree$)', fontsize=14); ax2.set_ylabel('Intensity', fontsize=14);\n",
    "ax2.set_xlim(np.min(x_2theta), np.max(x_2theta))\n",
    "plt.tight_layout()"
   ]
  },
  {
   "cell_type": "code",
   "execution_count": null,
   "metadata": {},
   "outputs": [],
   "source": [
    "## Subtract background"
   ]
  },
  {
   "cell_type": "code",
   "execution_count": null,
   "metadata": {},
   "outputs": [],
   "source": [
    "fig, ax = plt.subplots(1, 1, figsize=(25,10))\n",
    "ax.vlines(peak_pos_k_nm, ymin=0, ymax=np.max(y), alpha=0.2)\n",
    "ax.plot(x_k_nm, y, '-')\n",
    "ax.set_xlabel('K ($nm^{-1}$)', fontsize=14); ax.set_ylabel('Intensity', fontsize=14);\n",
    "ax.set_xlim(np.min(x_k_nm), np.max(x_k_nm))\n",
    "ax.set_yscale('log')\n",
    "\n",
    "\n",
    "plt.tight_layout()\n",
    "\n",
    "baseline = [3.22, 3.7, 4.5, 6.5, 8.1, 9.3, 11.55, 12.15]\n",
    "baseline_int=[]\n",
    "\n",
    "for j in baseline:\n",
    "    num_index =np.argmin(np.abs(x_k_nm-j))\n",
    "    baseline_int.append(np.mean(y[num_index-10:num_index+10]))\n",
    "        \n",
    "cs = CubicSpline(baseline, baseline_int)\n",
    "\n",
    "ax.plot(x_k_nm, cs(x_k_nm))\n",
    "ax.plot(baseline, baseline_int, c='r', marker='o', linewidth=0)"
   ]
  },
  {
   "cell_type": "code",
   "execution_count": null,
   "metadata": {},
   "outputs": [],
   "source": [
    "fig, ax = plt.subplots(1, 1, figsize=(25,10))\n",
    "\n",
    "y_nobck = y-cs(x_k_nm)\n",
    "\n",
    "ax.plot(x_k_nm, y_nobck+50, '-')\n",
    "ax.set_xlabel('K ($nm^{-1}$)', fontsize=14); ax.set_ylabel('Intensity', fontsize=14);\n",
    "ax.set_xlim(np.min(x_k_nm), np.max(x_k_nm))\n",
    "ax.set_yscale('log')\n",
    "ax.hlines([50], colors='r', linewidth=3, xmin=np.min(x_k_nm), xmax=np.max(x_k_nm), zorder=20)\n",
    "plt.title('Data with background subtracted  on log scale (added 50)')\n",
    "\n",
    "actual_peaks = []\n",
    "\n",
    "\n",
    "for i, peak in enumerate(peak_pos_k_nm):\n",
    "    if np.min(x_k_nm) < peak < np.max(x_k_nm):\n",
    "        \n",
    "        searchrange = 10\n",
    "        \n",
    "        elem = np.abs(x_k_nm-peak).argmin()\n",
    "                 \n",
    "\n",
    "        peak_index = np.argmax(y_nobck[elem-searchrange:elem+searchrange])+elem-searchrange\n",
    "        peak_x = x_k_nm[peak_index]\n",
    "        actual_peaks.append(peak_x)\n",
    "        \n",
    "ax.vlines(actual_peaks, ymin=0, ymax=np.max(y), alpha=0.2)\n",
    "\n",
    "\n",
    "plt.tight_layout()\n"
   ]
  },
  {
   "cell_type": "markdown",
   "metadata": {},
   "source": [
    "## Fit peaks"
   ]
  },
  {
   "cell_type": "code",
   "execution_count": null,
   "metadata": {},
   "outputs": [],
   "source": [
    "fig, ax = plt.subplots(1,1, figsize=(34, 15))\n",
    "# Fit each peak independently\n",
    "\n",
    "models = []\n",
    "pars = []\n",
    "prefixes = []\n",
    "for i, peak in enumerate(actual_peaks):\n",
    "    print('Peak {0} of {1}      '.format(i+1, len(actual_peaks)), end='\\r')\n",
    "        \n",
    "    search = 100 + i*10\n",
    "    searchrange = 10\n",
    "\n",
    "    elem = np.abs(x_k_nm-peak).argmin()\n",
    "\n",
    "    xvals = x_k_nm[elem-search:elem+search]\n",
    "    yvals = y_nobck[elem-search:elem+search]\n",
    "    \n",
    "    prefix = 'g'+str(i)+'_'\n",
    "    prefixes.append(prefix)\n",
    "    \n",
    "    mod = PseudoVoigtModel(prefix=prefix)\n",
    "    #mod = Pearson7Model(prefix=prefix, nan_policy='omit')\n",
    "    models.append(mod)\n",
    "    \n",
    "    par = mod.make_params()\n",
    "\n",
    "    par[prefix+'center'].set(value=peak, min=peak-0.05, max=peak+0.05)\n",
    "    par[prefix+'sigma'].set(value=0.01, min=0.001, max=0.1)\n",
    "    par[prefix+'height'].set(value=(np.max(yvals)-np.min(yvals)), min=2)\n",
    "    pars.append(par)\n",
    "\n",
    "models = np.sum(models)\n",
    "pars = np.sum(pars)\n",
    "    \n",
    "init = models.eval(pars, x=x_k_nm)\n",
    "out = models.fit(y_nobck, pars, x=x_k_nm)\n",
    "\n",
    "\n",
    "# Plotting    \n",
    "ax.plot(x_k_nm, y_nobck, label='raw')\n",
    "ax.plot(x_k_nm, np.sum([out.eval_components(x=x_k_nm)[prefix] for prefix in prefixes], axis=0), 'k--', label='fit')\n",
    "ax.legend()\n",
    "ax.set_ylim(-10, 100)\n",
    "ax.set_title('Raw data and fit', fontsize=14)\n",
    "ax.set_xlabel('K ($nm^{-1}$)', fontsize=14); ax.set_ylabel('Intensity', fontsize=14);\n"
   ]
  },
  {
   "cell_type": "code",
   "execution_count": null,
   "metadata": {},
   "outputs": [],
   "source": []
  },
  {
   "cell_type": "code",
   "execution_count": null,
   "metadata": {},
   "outputs": [],
   "source": [
    "BELOW NOT FINISHED"
   ]
  },
  {
   "cell_type": "code",
   "execution_count": null,
   "metadata": {},
   "outputs": [],
   "source": []
  },
  {
   "cell_type": "code",
   "execution_count": null,
   "metadata": {},
   "outputs": [],
   "source": []
  },
  {
   "cell_type": "code",
   "execution_count": null,
   "metadata": {},
   "outputs": [],
   "source": []
  },
  {
   "cell_type": "code",
   "execution_count": null,
   "metadata": {},
   "outputs": [],
   "source": []
  },
  {
   "cell_type": "markdown",
   "metadata": {},
   "source": [
    "## Save instrumental folder"
   ]
  },
  {
   "cell_type": "code",
   "execution_count": null,
   "metadata": {},
   "outputs": [],
   "source": [
    "if not os.path.exists(outfolder):\n",
    "    os.makedirs(outfolder)\n",
    "    \n",
    "for i, peak in enumerate(peak_pos_k_nm):\n",
    "    print('Peak {0} of {1}      '.format(i+1, len(peak_pos_k_nm)), end='\\r')\n",
    "    if np.min(x_k_nm) < peak < np.max(x_k_nm):\n",
    "        \n",
    "        search = 120 + i*5\n",
    "        \n",
    "        elem = np.abs(x_k_nm-peak).argmin()\n",
    "        xvals = x_k_nm[elem-search:elem+search]\n",
    "\n",
    "        \n",
    "        \n",
    "        \n",
    "    \n",
    "        with open(outfolder + '/{0:.2f}'.format(peak), 'w') as outfile:\n",
    "            np.savetxt(outfile, np.transpose([xvals-x_k+nm[elem],comp_list[i]['g0_']*comp_list[i]['g1_']]), fmt = ('%1.5f'))\n",
    "        "
   ]
  },
  {
   "cell_type": "code",
   "execution_count": null,
   "metadata": {},
   "outputs": [],
   "source": []
  }
 ],
 "metadata": {
  "kernelspec": {
   "display_name": "Python 3",
   "language": "python",
   "name": "python3"
  },
  "language_info": {
   "codemirror_mode": {
    "name": "ipython",
    "version": 3
   },
   "file_extension": ".py",
   "mimetype": "text/x-python",
   "name": "python",
   "nbconvert_exporter": "python",
   "pygments_lexer": "ipython3",
   "version": "3.7.10"
  }
 },
 "nbformat": 4,
 "nbformat_minor": 4
}
