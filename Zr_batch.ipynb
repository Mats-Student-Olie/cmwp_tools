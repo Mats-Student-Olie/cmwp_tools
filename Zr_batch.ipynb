{
 "cells": [
  {
   "cell_type": "markdown",
   "metadata": {},
   "source": [
    "# Workbook for automated creation  of CMWP files for a pre-integrated Zr XRD pattern"
   ]
  },
  {
   "cell_type": "markdown",
   "metadata": {},
   "source": [
    "This workbook takes a folder of .dat files and creates a .bg-spline.dat and .pkea-index.dat file based on Zr peak positions."
   ]
  },
  {
   "cell_type": "markdown",
   "metadata": {},
   "source": [
    "## Import stuff"
   ]
  },
  {
   "cell_type": "code",
   "execution_count": 1,
   "metadata": {},
   "outputs": [],
   "source": [
    "import numpy as np\n",
    "import pandas as pd\n",
    "import matplotlib.pyplot as plt\n",
    "%matplotlib qt\n",
    "import glob\n",
    "import csv\n",
    "from scipy.interpolate import CubicSpline\n",
    "from shutil import copyfile\n",
    "from src.xrd_tools import getReflections"
   ]
  },
  {
   "cell_type": "markdown",
   "metadata": {},
   "source": [
    "## Define settings"
   ]
  },
  {
   "cell_type": "code",
   "execution_count": null,
   "metadata": {},
   "outputs": [],
   "source": [
    "base = '/home/rhys/Documents/CMWP-200623/testdata/'         # This is the base directory where the data is stored\n",
    "template = base + '0template/'                              # This is where the template files are stored. These are copied for each .dat file.\n",
    "\n",
    "wavelength = 1.5406                                         # Wavelength in angstrom\n",
    "a=3.232                # a lattice paramater in angstrom\n",
    "c=5.147                # c lattice paramater in angstrom\n",
    "\n",
    "baseline=[42, 52, 61, 72, 85, 101.5]                        # What 2theta points to calculte the background spline from\n",
    "\n",
    "searchrange = 20                                            # How many data points each side of the approximate 2theta peak position to search for the true peak\n"
   ]
  },
  {
   "cell_type": "markdown",
   "metadata": {},
   "source": [
    "## Find files"
   ]
  },
  {
   "cell_type": "code",
   "execution_count": null,
   "metadata": {},
   "outputs": [],
   "source": [
    "files = glob.glob(base + '*.dat')\n",
    "template_files = glob.glob(template + '*')\n",
    "\n",
    "files = [x for x in files if 'bg-spline' not in x]\n",
    "files = [x for x in files if 'peak-index' not in x]\n",
    "    \n",
    "print('Found {0} files'.format(len(files)))\n",
    "for file in files: print('\\t{0}'.format(file))\n",
    "print('\\nFound {0} template files:'.format(len(template_files)))\n",
    "for file in template_files: print('\\t{0}'.format(file))"
   ]
  },
  {
   "cell_type": "markdown",
   "metadata": {},
   "source": [
    "## Run"
   ]
  },
  {
   "cell_type": "code",
   "execution_count": null,
   "metadata": {},
   "outputs": [],
   "source": [
    "peak_name, peak_pos = getReflections(crystalType='hcp', a=a, c=c, wavelength=wavelength, printReflections=False)\n",
    "\n",
    "for file in files:\n",
    "    \n",
    "    for t_file in template_files:\n",
    "         copyfile(t_file, file.split('.')[-2] + t_file.split('/')[-1][8:])\n",
    "        \n",
    "    ########################### Load data ###########################\n",
    "    \n",
    "    data = np.loadtxt(file)\n",
    "    xvals = data[:,0]\n",
    "    yvals = data[:,1]\n",
    "\n",
    "    ########################### Make figure ###########################\n",
    "\n",
    "    plt.ioff()\n",
    "    fig, (ax) = plt.subplots(1, 1, figsize=(16,8))\n",
    "    ax.set_title(file.split('.')[-2].split('/')[-1]);\n",
    "    ax.set_xlabel('2theta (deg)', fontsize=14); \n",
    "    ax.set_ylabel('Intensity', fontsize=14);\n",
    "    plt.subplots_adjust(left=0.1, bottom=0.1, top=0.9, right=0.9, wspace=0.115, hspace=0)\n",
    "    plt.subplots_adjust(hspace=0)\n",
    "    \n",
    "    ax.plot(xvals, yvals)\n",
    "    ax.set_xlim(np.min(xvals)+0.01, np.max(xvals)-0.01)\n",
    "    ax.set_ylim(np.min(yvals)-5, np.max(yvals)*1.1)\n",
    "\n",
    "    ########################### Make bg-spline ###########################\n",
    "    \n",
    "    baseline_int = []\n",
    "    \n",
    "    baseline_new = baseline + [np.min(xvals)+(xvals[1]-xvals[0])*8, np.max(xvals)-(xvals[1]-xvals[0])*8]\n",
    "\n",
    "    for j in baseline_new:\n",
    "        num_index=np.argmin(np.abs(xvals-j))\n",
    "        baseline_int.append(np.mean(yvals[num_index-5:num_index+5])*0.99)\n",
    "\n",
    "    baseline_new, baseline_int = (list(t) for t in zip(*sorted(zip(baseline_new, baseline_int))))\n",
    "\n",
    "    with open(file.split('.')[-2]+'.bg-spline.dat', 'w') as f:\n",
    "        np.savetxt(fname = f, X=np.transpose([baseline_new, baseline_int]), fmt = ('%1.5f'))\n",
    "\n",
    "    xs = np.arange(start=np.min(xvals), stop=np.max(xvals), step=0.1)\n",
    "    cs = CubicSpline(baseline_new, baseline_int)\n",
    "\n",
    "    ax.plot(xs, cs(xs))\n",
    "    ax.plot(baseline_new, baseline_int, 'o',c='r')\n",
    "        \n",
    "    ########################### Make peak-index ###########################\n",
    "\n",
    "    with open(file.split('.')[-2]+'.peak-index.dat', 'w', newline='') as csvfile:\n",
    "        writer = csv.writer(csvfile)\n",
    "\n",
    "        for name, pos in zip(peak_name, peak_pos):\n",
    "\n",
    "            if np.min(xvals) < pos < np.max(xvals):\n",
    "                \n",
    "                # approx peak postion\n",
    "                approx_peak_index = np.argmin(np.abs(xvals-pos))\n",
    "\n",
    "                # get actual peak position\n",
    "                peak_index = np.argmax(yvals[approx_peak_index-searchrange:approx_peak_index+searchrange])+approx_peak_index-searchrange\n",
    "                yval = yvals[peak_index]\n",
    "\n",
    "                # draw line and print name\n",
    "                ax.axvline(xvals[peak_index], alpha=0.1, c='r')\n",
    "                ax.text(xvals[peak_index], yval+10, name, horizontalalignment = 'center', c='r')\n",
    "\n",
    "                intensity = yval - cs(xvals)[peak_index]\n",
    "\n",
    "                writer.writerow(['{0:.4f} {1:.1f} {2} 0'.format(xvals[peak_index], intensity, name)])\n",
    "\n",
    "    plt.yscale('log')\n",
    "    plt.savefig(file.split('.')[-2]+'_log.png', dpi=200)\n",
    "    plt.close()"
   ]
  },
  {
   "cell_type": "code",
   "execution_count": null,
   "metadata": {},
   "outputs": [],
   "source": []
  }
 ],
 "metadata": {
  "kernelspec": {
   "display_name": "Python 3",
   "language": "python",
   "name": "python3"
  },
  "language_info": {
   "codemirror_mode": {
    "name": "ipython",
    "version": 3
   },
   "file_extension": ".py",
   "mimetype": "text/x-python",
   "name": "python",
   "nbconvert_exporter": "python",
   "pygments_lexer": "ipython3",
   "version": "3.7.10"
  }
 },
 "nbformat": 4,
 "nbformat_minor": 4
}
